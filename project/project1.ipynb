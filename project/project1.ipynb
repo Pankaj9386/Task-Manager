{
 "cells": [
  {
   "cell_type": "code",
   "execution_count": 26,
   "metadata": {},
   "outputs": [],
   "source": [
    "def add_task():\n",
    "    title=input(\"enter title of task\")\n",
    "    with open(f\"{title}.txt\",'x')as f:\n",
    "        z=input(\"enter the task\")\n",
    "        f.write(z)\n",
    "        \n",
    "    return \"task added\""
   ]
  },
  {
   "cell_type": "code",
   "execution_count": null,
   "metadata": {},
   "outputs": [],
   "source": [
    "lambda:\n",
    "    "
   ]
  },
  {
   "cell_type": "code",
   "execution_count": 37,
   "metadata": {},
   "outputs": [],
   "source": [
    "import os\n",
    "def delete_task():\n",
    "    contents=os.listdir(\"C:\\\\Users\\\\dP-PL\\\\Desktop\\\\python\\\\project\")\n",
    "    print(\"=================\\nbelow are the tasks saved\\n\")\n",
    "    for item in contents:\n",
    "        if \".txt\" in item:\n",
    "            print(item[:-4])\n",
    "    print(\"=================\")\n",
    "    title=input(\"enter title of task to delete \")\n",
    "    os.remove(f\"{title}.txt\")\n",
    "    \n",
    "    return \"task deleted\""
   ]
  },
  {
   "cell_type": "code",
   "execution_count": 9,
   "metadata": {},
   "outputs": [
    {
     "ename": "SyntaxError",
     "evalue": "invalid syntax (1102136943.py, line 1)",
     "output_type": "error",
     "traceback": [
      "\u001b[1;36m  Cell \u001b[1;32mIn[9], line 1\u001b[1;36m\u001b[0m\n\u001b[1;33m    def\u001b[0m\n\u001b[1;37m       ^\u001b[0m\n\u001b[1;31mSyntaxError\u001b[0m\u001b[1;31m:\u001b[0m invalid syntax\n"
     ]
    }
   ],
   "source": [
    "def"
   ]
  },
  {
   "cell_type": "code",
   "execution_count": 38,
   "metadata": {},
   "outputs": [],
   "source": [
    "def mark_as_completed():\n",
    "    flag=0\n",
    "    u=input(\"enter y to view file to mark as completed \")\n",
    "    contents=os.listdir(\"C:\\\\Users\\\\dP-PL\\\\Desktop\\\\python\\\\project\")\n",
    "    print(\"=================\\nbelow are the tasks saved\\n\")\n",
    "    for item in contents:\n",
    "        if \".txt\" in item:\n",
    "            print(item[:-4])\n",
    "    print(\"=================\")\n",
    "    while u=='y':\n",
    "        try:\n",
    "            title=input(\"enter title of task\")\n",
    "            with open(f\"{title}.txt\",'r')as f:\n",
    "                z=f.read()\n",
    "            os.remove(f\"{title}.txt\")    \n",
    "            os.listdir(\"marked_As_completed\")\n",
    "            with open(f\"marked_As_completed\\\\{title}.txt\",'x')as f:\n",
    "                f.write(z)\n",
    "            flag=1 \n",
    "        except FileNotFoundError:\n",
    "            print(\"Invalid title\")\n",
    "            u=input(\"enter y to continue\")\n",
    "        \n",
    "    if flag==1:\n",
    "        return \"mark as Completed\"\n",
    "    else:\n",
    "        return \"not marked\"\n",
    "        \n",
    "    \n",
    "    \n",
    "    "
   ]
  },
  {
   "cell_type": "code",
   "execution_count": 39,
   "metadata": {},
   "outputs": [],
   "source": [
    "def view():\n",
    "    contents=os.listdir(\"C:\\\\Users\\\\dP-PL\\\\Desktop\\\\python\\\\project\")\n",
    "    print(\"=================\\n tasks are given beloew\\n\")\n",
    "    for item in contents:\n",
    "        if \".txt\" in item:\n",
    "            print(item[:-4])\n",
    "    print(\"=================\")\n",
    "        \n",
    "    u=input(\"enter y to view file\")\n",
    "    while u=='y':\n",
    "        \n",
    "        try:   \n",
    "            title=input(\"enter title of task\") \n",
    "            with open(f\"{title}.txt\",'r')as f:\n",
    "                print(\"============\")\n",
    "                print(\"here is your task\")\n",
    "                print(title)            \n",
    "                print(\"task details: \",f.read())\n",
    "                u=input(\"enter y to continue\")\n",
    "        except:\n",
    "            print(\"invalid credentials\")\n",
    "            u=input(\"enter y to continue\")\n",
    "    \n",
    "     \n",
    "            \n",
    "    "
   ]
  },
  {
   "cell_type": "code",
   "execution_count": 40,
   "metadata": {},
   "outputs": [],
   "source": [
    "def open_marked_as_completed():\n",
    "    \n",
    "    contents=os.listdir(\"marked_As_completed\")\n",
    "    print(\"=================\\nbelow are the files marked as completed\\n\")\n",
    "    for item in contents:\n",
    "        if \".txt\" in item:\n",
    "            print(item[:-4])\n",
    "    print(\"=================\")\n",
    "    u=input(\"enter y to view file\")\n",
    "    while u=='y': \n",
    "        try:   \n",
    "            title=input(\"enter title of task\")\n",
    "            os.listdir(\"marked_As_completed\")\n",
    "            with open(f\"marked_As_completed\\\\{title}.txt\",'r')as f:\n",
    "                print(\"============\")\n",
    "                print(\"here is your task\")\n",
    "                print(title)\n",
    "            \n",
    "                print(\"task details: \",f.read())\n",
    "        except:\n",
    "            print(\"invalid credentials\")\n",
    "            u=input(\"enter y to continue\")\n",
    "    \n",
    "        \n",
    "    "
   ]
  },
  {
   "cell_type": "code",
   "execution_count": 43,
   "metadata": {},
   "outputs": [
    {
     "name": "stdout",
     "output_type": "stream",
     "text": [
      "=================\n",
      " tasks are given beloew\n",
      "\n",
      "hangout\n",
      "mail\n",
      "=================\n",
      "============\n",
      "here is your task\n",
      "hangout\n",
      "task details:  i have to go out to play badminton.\n",
      "=================\n",
      " tasks are given beloew\n",
      "\n",
      "hangout\n",
      "mail\n",
      "pallindrome\n",
      "=================\n",
      "============\n",
      "here is your task\n",
      "pallindrome\n",
      "task details:  practice the coding questions on pallindrome\n",
      "=================\n",
      "below are the tasks saved\n",
      "\n",
      "hangout\n",
      "mail\n",
      "pallindrome\n",
      "=================\n",
      "=================\n",
      " tasks are given beloew\n",
      "\n",
      "hangout\n",
      "pallindrome\n",
      "=================\n",
      "invalid credentials\n"
     ]
    }
   ],
   "source": [
    "u=input(\"enter y to view main operations\")\n",
    "while u=='y':\n",
    "        z=int(input(\"1:new task\\t2:mark as completed\\t3:delete\\t4:view\\t5:open_marked_as_completed\"))\n",
    "        match z:\n",
    "            case 1:\n",
    "                add_task()\n",
    "            case 2:\n",
    "                mark_as_completed()\n",
    "            case 3:\n",
    "                delete_task()\n",
    "            case 4:\n",
    "                view()\n",
    "            case 5:\n",
    "                open_marked_as_completed()   \n",
    "            \n",
    "                \n",
    "        u=input(\"enter y to continue in operations\")   \n"
   ]
  },
  {
   "cell_type": "code",
   "execution_count": 1,
   "metadata": {},
   "outputs": [],
   "source": [
    "import tkinter as tk\n",
    "\n",
    "root=tk.Tk()\n",
    "root.title(\"calculator\")\n",
    "root.geometry(\"400x300\")\n",
    "text_result=tk.Text(root,height=2, width=22,font=(\"Arial\",24))"
   ]
  },
  {
   "cell_type": "code",
   "execution_count": null,
   "metadata": {},
   "outputs": [
    {
     "name": "stdout",
     "output_type": "stream",
     "text": [
      "money making.txt\n",
      "============\n",
      "here is your task\n",
      "money making\n",
      "task details:  1234\n"
     ]
    }
   ],
   "source": []
  },
  {
   "cell_type": "code",
   "execution_count": null,
   "metadata": {},
   "outputs": [],
   "source": []
  }
 ],
 "metadata": {
  "kernelspec": {
   "display_name": "Python 3",
   "language": "python",
   "name": "python3"
  },
  "language_info": {
   "codemirror_mode": {
    "name": "ipython",
    "version": 3
   },
   "file_extension": ".py",
   "mimetype": "text/x-python",
   "name": "python",
   "nbconvert_exporter": "python",
   "pygments_lexer": "ipython3",
   "version": "3.11.9"
  }
 },
 "nbformat": 4,
 "nbformat_minor": 2
}
